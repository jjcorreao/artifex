{
 "worksheets": [
  {
   "cells": [
    {
     "cell_type": "code",
     "metadata": {},
     "outputs": [],
     "input": [
      "\n",
      "import numpy as np\n",
      "import matplotlib as plt\n",
      "from matplotlib.path import Path\n",
      "import matplotlib.patches as patches\n",
      "\n",
      "\n",
      "\n",
      "\n",
      "def length(x, y, Lx):\n",
      "    L1 = np.sqrt(x**2 + y**2)\n",
      "    L2 = np.sqrt((Lx-x)**2 + y**2)\n",
      "    alpha = np.arcsin(y/L1)\n",
      "    beta = np.arcsin((L1/L2)*np.sin(alpha))\n",
      "    return L1, L2, alpha, beta\n",
      "\n",
      "def tension(L1, L2, alpha, beta, m1, g):\n",
      "    T2 = (m1*g*np.cos(alpha))/(np.sin(beta)*(np.cos(beta)+np.cos(alpha)))\n",
      "    T1 = (T2*np.cos(beta))/np.cos(alpha)\n",
      "    return T1, T2\n",
      "\n",
      "# def line():\n",
      "#     y-yo=m()\n",
      "\n",
      "x = 0.1\n",
      "y = 0.5\n",
      "Lx = 1.5\n",
      "m1 = 5\n",
      "g = 1 # ft/s2\n",
      "\n",
      "L1, L2, alpha, beta = length(x,y,Lx)\n",
      "\n",
      "T1, T2 = tension(L1, L2, alpha, beta, m1, g)\n",
      "\n",
      "print(\"T1(%s,%s) = %s | T2(%s,%s) = %s | alpha = %s deg | beta = %s deg\" % (x,y,T1,x,y,T2,np.rad2deg(alpha),np.rad2deg(beta)))\n",
      "\n",
      "\n",
      "verts = [\n",
      "    (0, 0), # left, bottom\n",
      "    (x, y), # left, top\n",
      "    (Lx, 0), # right, top\n",
      "    ]\n",
      "\n",
      "codes = [Path.MOVETO,\n",
      "         Path.LINETO,\n",
      "         Path.CLOSEPOLY,\n",
      "         ]\n",
      "\n",
      "path = Path(verts, codes)\n",
      "\n",
      "fig = plt.figure()\n",
      "ax = fig.add_subplot(111)\n",
      "patch = patches.PathPatch(path, facecolor='orange', lw=2)\n",
      "ax.add_patch(patch)\n",
      "# ax.set_xlim(-2,2)\n",
      "# ax.set_ylim(-2,2)\n",
      "plt.show()"
     ],
     "language": "python"
    },
    {
     "cell_type": "code",
     "metadata": {},
     "outputs": [],
     "input": [
      ""
     ],
     "language": "python"
    }
   ]
  }
 ],
 "cells": [],
 "metadata": {},
 "nbformat": 3,
 "nbformat_minor": 0
}